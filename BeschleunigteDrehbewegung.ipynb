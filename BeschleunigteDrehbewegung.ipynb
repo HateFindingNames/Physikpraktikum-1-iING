{
 "cells": [
  {
   "cell_type": "code",
   "execution_count": 4,
   "id": "624ef43f",
   "metadata": {},
   "outputs": [
    {
     "name": "stdout",
     "output_type": "stream",
     "text": [
      "Die vereinfachte Lösung für J und MR ist: {J: r*(-alpha1*m1*r + alpha2*m2*r + g*m1 - g*m2)/(alpha1 - alpha2), MR: r*(alpha1*alpha2*m1*r - alpha1*alpha2*m2*r + alpha1*g*m2 - alpha2*g*m1)/(alpha1 - alpha2)}\n",
      "\n",
      "Die vereinfachte Lösung in LaTeX-Code ist:\n",
      "J: \\frac{r \\left(- \\alpha_{1} m_{1} r + \\alpha_{2} m_{2} r + g m_{1} - g m_{2}\\right)}{\\alpha_{1} - \\alpha_{2}}\n",
      "MR: \\frac{r \\left(\\alpha_{1} \\alpha_{2} m_{1} r - \\alpha_{1} \\alpha_{2} m_{2} r + \\alpha_{1} g m_{2} - \\alpha_{2} g m_{1}\\right)}{\\alpha_{1} - \\alpha_{2}}\n"
     ]
    }
   ],
   "source": [
    "from sympy import symbols, Eq, solve, simplify, latex\n",
    "\n",
    "# Symbole definieren\n",
    "J, MR, m, g, r, alpha, m1, m2, alpha1, alpha2 = symbols('J MR m g r alpha m1 m2 alpha1 alpha2')\n",
    "\n",
    "# Gleichungen definieren\n",
    "equation1 = Eq(J, (m1 * g * r - m1 * alpha1 * r**2 - MR) / alpha1)\n",
    "equation2 = Eq(J, ((m1 - m2) * g * r - (m1 * alpha1 - m2 * alpha2) * r**2) / (alpha1 - alpha2))\n",
    "\n",
    "# Ausdrücke vereinfachen\n",
    "simplified_solution = {key: simplify(value) for key, value in solution.items()}\n",
    "\n",
    "# Das Ergebnis in LaTeX-Code umwandeln\n",
    "latex_solution = {key: latex(value) for key, value in simplified_solution.items()}\n",
    "\n",
    "# Das vereinfachte Ergebnis ausgeben\n",
    "print(\"Die vereinfachte Lösung für J und MR ist:\", simplified_solution)\n",
    "print(\"\\nDie vereinfachte Lösung in LaTeX-Code ist:\")\n",
    "for key, value in latex_solution.items():\n",
    "    print(f\"{key}: {value}\")\n"
   ]
  },
  {
   "cell_type": "code",
   "execution_count": 7,
   "id": "194f87b6",
   "metadata": {},
   "outputs": [
    {
     "ename": "SyntaxError",
     "evalue": "(unicode error) 'unicodeescape' codec can't decode bytes in position 2-3: truncated \\UXXXXXXXX escape (315542303.py, line 3)",
     "output_type": "error",
     "traceback": [
      "\u001b[1;36m  Cell \u001b[1;32mIn[7], line 3\u001b[1;36m\u001b[0m\n\u001b[1;33m    Daten = pd.read_excel(\"C:\\Users\\Gallas\\Meine Ablage (susanna.gallas@gmx.net)\\00_Meine Lehrveranstaltungen\\01-SoSe 2024\\Praktikum\\Tabellen_P1-2.xlsx\", sheet_name=['Demos'], skiprows=3)\u001b[0m\n\u001b[1;37m                                                                                                                                                        ^\u001b[0m\n\u001b[1;31mSyntaxError\u001b[0m\u001b[1;31m:\u001b[0m (unicode error) 'unicodeescape' codec can't decode bytes in position 2-3: truncated \\UXXXXXXXX escape\n"
     ]
    }
   ],
   "source": [
    "import pandas as pd\n",
    "\n",
    "Daten = pd.read_excel(\"C:\\Users\\Gallas\\Meine Ablage (susanna.gallas@gmx.net)\\00_Meine Lehrveranstaltungen\\01-SoSe 2024\\Praktikum\\Tabellen_P1-2.xlsx\", sheet_name=['Demos'], skiprows=3)\n",
    "print(type(Daten))\n",
    "print(Daten.keys())\n",
    "print(Daten['Demo'].head())\n"
   ]
  },
  {
   "cell_type": "code",
   "execution_count": null,
   "id": "7886fb71",
   "metadata": {},
   "outputs": [],
   "source": []
  }
 ],
 "metadata": {
  "kernelspec": {
   "display_name": "Python 3 (ipykernel)",
   "language": "python",
   "name": "python3"
  },
  "language_info": {
   "codemirror_mode": {
    "name": "ipython",
    "version": 3
   },
   "file_extension": ".py",
   "mimetype": "text/x-python",
   "name": "python",
   "nbconvert_exporter": "python",
   "pygments_lexer": "ipython3",
   "version": "3.11.5"
  }
 },
 "nbformat": 4,
 "nbformat_minor": 5
}
